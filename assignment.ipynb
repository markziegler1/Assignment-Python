{
 "cells": [
  {
   "cell_type": "markdown",
   "metadata": {},
   "source": [
    "# Assignment 1 - Model an organisation of employees, management and board of directors in 3 sets"
   ]
  },
  {
   "cell_type": "code",
   "execution_count": 7,
   "metadata": {},
   "outputs": [
    {
     "name": "stdout",
     "output_type": "stream",
     "text": [
      "Directors who are not employees: {'Torben', 'Troels', 'Mille', 'Søren', 'Hans', 'Benny'}\n",
      "Directors who are also employees: {'Tine'}\n",
      "Number of management members also in the board: 1\n",
      "All members of management are also employees: True\n",
      "All members of management are also in the board: False\n",
      "Employee, member of management, and member of the board: {'Tine'}\n",
      "Employees who are neither in the board nor management: {'Claus', 'Niels', 'Bent', 'Anna', 'Lars', 'Ole', 'James', 'Stine', 'Allan'}\n"
     ]
    }
   ],
   "source": [
    "# Define sets for board of directors, management, and employees\n",
    "board_of_directors = {\"Benny\", \"Hans\", \"Tine\", \"Mille\", \"Torben\", \"Troels\", \"Søren\"}\n",
    "management = {\"Tine\", \"Trunte\", \"Rane\"}\n",
    "employees = {\"Niels\", \"Anna\", \"Tine\", \"Ole\", \"Trunte\", \"Bent\", \"Rane\", \"Allan\", \"Stine\", \"Claus\", \"James\", \"Lars\"}\n",
    "\n",
    "# Who in the board of directors is not an employee?\n",
    "not_employee_directors = board_of_directors - employees\n",
    "print(\"Directors who are not employees:\", not_employee_directors)\n",
    "\n",
    "# Who in the board of directors is also an employee?\n",
    "employee_directors = board_of_directors.intersection(employees)\n",
    "print(\"Directors who are also employees:\", employee_directors)\n",
    "\n",
    "# How many of the management are also members of the board?\n",
    "management_and_board = management.intersection(board_of_directors)\n",
    "print(\"Number of management members also in the board:\", len(management_and_board))\n",
    "\n",
    "# Are all members of the management also employees?\n",
    "all_management_are_employees = management.issubset(employees)\n",
    "print(\"All members of management are also employees:\", all_management_are_employees)\n",
    "\n",
    "# Are all members of the management also in the board?\n",
    "all_management_are_in_board = management.issubset(board_of_directors)\n",
    "print(\"All members of management are also in the board:\", all_management_are_in_board)\n",
    "\n",
    "# Who is an employee, a member of management, and a member of the board?\n",
    "employee_management_board = employees.intersection(management).intersection(board_of_directors)\n",
    "print(\"Employee, member of management, and member of the board:\", employee_management_board)\n",
    "\n",
    "# Who of the employees is neither a member of the board nor management?\n",
    "not_board_management_employee = employees - board_of_directors - management\n",
    "print(\"Employees who are neither in the board nor management:\", not_board_management_employee)\n",
    "\n"
   ]
  },
  {
   "cell_type": "markdown",
   "metadata": {},
   "source": [
    "# Assignment 2 - Create a list of tuples from the folowing datastructure \n"
   ]
  },
  {
   "cell_type": "code",
   "execution_count": 8,
   "metadata": {},
   "outputs": [
    {
     "name": "stdout",
     "output_type": "stream",
     "text": [
      "[('a', 'Alpha'), ('b', 'Beta'), ('g', 'Gamma')]\n"
     ]
    }
   ],
   "source": [
    "data_structure = {'a': 'Alpha', 'b': 'Beta', 'g': 'Gamma'}\n",
    "tuple_list = [(key, value) for key, value in data_structure.items()]\n",
    "print(tuple_list)"
   ]
  },
  {
   "cell_type": "markdown",
   "metadata": {},
   "source": [
    "# Assignment 3 - Create Union, Symmetric Difference, Difference, and Disjoint set operations for two sets:\n"
   ]
  },
  {
   "cell_type": "code",
   "execution_count": 9,
   "metadata": {},
   "outputs": [
    {
     "name": "stdout",
     "output_type": "stream",
     "text": [
      "Union: {'i', 'å', 'æ', 'u', 'ø', 'a', 'e', 'y', 'o'}\n",
      "Symmetric Difference: {'å', 'æ', 'ø'}\n",
      "Difference (set1 - set2): set()\n",
      "Disjoint: False\n",
      "Union: {'i', 'å', 'æ', 'u', 'ø', 'a', 'e', 'y', 'o'}\n",
      "Symmetric Difference: {'å', 'æ', 'ø'}\n",
      "Difference (set2 - set1): {'å', 'æ', 'ø'}\n",
      "Disjoint: False\n"
     ]
    }
   ],
   "source": [
    "set1 = {'a', 'e', 'i', 'o', 'u', 'y'}\n",
    "set2 = {'a', 'e', 'i', 'o', 'u', 'y', 'æ', 'ø', 'å'}\n",
    "\n",
    "# Union\n",
    "union_result = set1.union(set2)\n",
    "print(\"Union:\", union_result)\n",
    "\n",
    "# Symmetric Difference\n",
    "symmetric_difference_result = set1.symmetric_difference(set2)\n",
    "print(\"Symmetric Difference:\", symmetric_difference_result)\n",
    "\n",
    "# Difference\n",
    "difference_result = set1.difference(set2)\n",
    "print(\"Difference (set1 - set2):\", difference_result)\n",
    "\n",
    "# Disjoint\n",
    "disjoint_result = set1.isdisjoint(set2)\n",
    "print(\"Disjoint:\", disjoint_result)\n",
    "\n",
    "# set2 with respect to set1\n",
    "set1 = {'a', 'e', 'i', 'o', 'u', 'y'}\n",
    "set2 = {'a', 'e', 'i', 'o', 'u', 'y', 'æ', 'ø', 'å'}\n",
    "\n",
    "# Union (Combining both sets)\n",
    "union_result = set1.union(set2)\n",
    "print(\"Union:\", union_result)\n",
    "\n",
    "# Symmetric Difference (Elements that are unique to each set)\n",
    "symmetric_difference_result = set1.symmetric_difference(set2)\n",
    "print(\"Symmetric Difference:\", symmetric_difference_result)\n",
    "\n",
    "# Difference (Elements that are in set2 but not in set1)\n",
    "difference_result = set2.difference(set1)\n",
    "print(\"Difference (set2 - set1):\", difference_result)\n",
    "\n",
    "# Disjoint (Checking if the sets have no common elements)\n",
    "disjoint_result = set1.isdisjoint(set2)\n",
    "print(\"Disjoint:\", disjoint_result)"
   ]
  },
  {
   "cell_type": "markdown",
   "metadata": {},
   "source": [
    "# Assignement 4 - Date Decoder"
   ]
  },
  {
   "cell_type": "code",
   "execution_count": 10,
   "metadata": {},
   "outputs": [
    {
     "name": "stdout",
     "output_type": "stream",
     "text": [
      "(1985, 3, 8)\n"
     ]
    }
   ],
   "source": [
    "# Create a dictionary for decoding month names to numbers\n",
    "month_dict = {\n",
    "    'JAN': 1, 'FEB': 2, 'MAR': 3, 'APR': 4,\n",
    "    'MAY': 5, 'JUN': 6, 'JUL': 7, 'AUG': 8,\n",
    "    'SEP': 9, 'OCT': 10, 'NOV': 11, 'DEC': 12\n",
    "}\n",
    "\n",
    "def parse_date(date_str):\n",
    "    # Split the date using the \"-\" character\n",
    "    parts = date_str.split('-')\n",
    "    \n",
    "    if len(parts) != 3:\n",
    "        raise ValueError(\"Invalid date format. Please use 'dd-MMM-yy' format.\")\n",
    "    \n",
    "    day = int(parts[0])\n",
    "    month = month_dict.get(parts[1].upper())\n",
    "    year = int(parts[2])\n",
    "    \n",
    "    # Correct the year to include all of the digits (assuming it's between 00 and 99)\n",
    "    if year >= 0 and year <= 99:\n",
    "        if year >= 0 and year <= 20:\n",
    "            year += 2000\n",
    "        else:\n",
    "            year += 1900\n",
    "    \n",
    "    return (year, month, day)\n",
    "\n",
    "# Example usage:\n",
    "date_str = '8-MAR-85'\n",
    "parsed_date = parse_date(date_str)\n",
    "print(parsed_date)  # Output will be (1985, 3, 8)"
   ]
  },
  {
   "cell_type": "markdown",
   "metadata": {},
   "source": [
    "# Assignemnt 5 - Party Exercise\n"
   ]
  },
  {
   "cell_type": "code",
   "execution_count": 11,
   "metadata": {},
   "outputs": [
    {
     "name": "stdout",
     "output_type": "stream",
     "text": [
      "Friends who have not RSVP'd: {'Charlie', 'Eve', 'Alice'}\n",
      "Friends who were not invited but RSVP'd: {'Grace', 'Frank'}\n",
      "Common friends (invited and RSVP'd): {'David', 'Bob'}\n"
     ]
    }
   ],
   "source": [
    "# Function to find friends who have not RSVP'd\n",
    "def friends_not_rsvped(invited_friends, rsvp_friends):\n",
    "    return invited_friends - rsvp_friends\n",
    "\n",
    "# Function to find friends who were not invited but RSVP'd\n",
    "def unexpected_rsvp(invited_friends, rsvp_friends):\n",
    "    return rsvp_friends - invited_friends\n",
    "\n",
    "# Function to find common friends (invited and RSVP'd)\n",
    "def common_friends(invited_friends, rsvp_friends):\n",
    "    return invited_friends.intersection(rsvp_friends)\n",
    "\n",
    "# Sample sets of invited and RSVP'd friends\n",
    "invited_friends = {\"Alice\", \"Bob\", \"Charlie\", \"David\", \"Eve\"}\n",
    "rsvp_friends = {\"Bob\", \"David\", \"Frank\", \"Grace\"}\n",
    "\n",
    "# Find and print friends who have not RSVP'd\n",
    "not_rsvped = friends_not_rsvped(invited_friends, rsvp_friends)\n",
    "print(\"Friends who have not RSVP'd:\", not_rsvped)\n",
    "\n",
    "# Find and print friends who were not invited but RSVP'd\n",
    "unexpected = unexpected_rsvp(invited_friends, rsvp_friends)\n",
    "print(\"Friends who were not invited but RSVP'd:\", unexpected)\n",
    "\n",
    "# Find and print common friends (invited and RSVP'd)\n",
    "common = common_friends(invited_friends, rsvp_friends)\n",
    "print(\"Common friends (invited and RSVP'd):\", common)"
   ]
  },
  {
   "cell_type": "markdown",
   "metadata": {},
   "source": [
    "# Assignment 6\n"
   ]
  },
  {
   "cell_type": "code",
   "execution_count": 12,
   "metadata": {},
   "outputs": [
    {
     "name": "stdout",
     "output_type": "stream",
     "text": [
      "Original Grades:\n",
      "Alice: 92\n",
      "Bob: 78\n",
      "Charlie: 88\n",
      "David: 95\n",
      "Eve: 79\n",
      "\n",
      "Updated Grades:\n",
      "Alice: 92\n",
      "Bob: 85\n",
      "Charlie: 88\n",
      "David: 95\n",
      "Eve: 90\n",
      "\n",
      "Students with grades higher than 85: Alice, Charlie, David, Eve\n"
     ]
    }
   ],
   "source": [
    "# Function to update grades for specific students\n",
    "def update_grades(student_dict, updates):\n",
    "    for student, new_grade in updates.items():\n",
    "        if student in student_dict:\n",
    "            student_dict[student] = new_grade\n",
    "\n",
    "# Function to find and print students with grades higher than 85\n",
    "def find_high_grades(student_dict, threshold):\n",
    "    high_grades = [student for student, grade in student_dict.items() if grade > threshold]\n",
    "    return high_grades\n",
    "\n",
    "# Dictionary of students and their grades\n",
    "student_grades = {\n",
    "    \"Alice\": 92,\n",
    "    \"Bob\": 78,\n",
    "    \"Charlie\": 88,\n",
    "    \"David\": 95,\n",
    "    \"Eve\": 79,\n",
    "}\n",
    "\n",
    "# Print the original grades\n",
    "print(\"Original Grades:\")\n",
    "for student, grade in student_grades.items():\n",
    "    print(f\"{student}: {grade}\")\n",
    "\n",
    "# Update grades for specific students\n",
    "grade_updates = {\n",
    "    \"Bob\": 85,\n",
    "    \"Eve\": 90,\n",
    "}\n",
    "update_grades(student_grades, grade_updates)\n",
    "\n",
    "# Print the updated grades\n",
    "print(\"\\nUpdated Grades:\")\n",
    "for student, grade in student_grades.items():\n",
    "    print(f\"{student}: {grade}\")\n",
    "\n",
    "# Find and print students with grades higher than 85\n",
    "threshold = 85\n",
    "high_grades = find_high_grades(student_grades, threshold)\n",
    "print(f\"\\nStudents with grades higher than {threshold}: {', '.join(high_grades)}\")"
   ]
  }
 ],
 "metadata": {
  "kernelspec": {
   "display_name": "Python 3",
   "language": "python",
   "name": "python3"
  },
  "language_info": {
   "codemirror_mode": {
    "name": "ipython",
    "version": 3
   },
   "file_extension": ".py",
   "mimetype": "text/x-python",
   "name": "python",
   "nbconvert_exporter": "python",
   "pygments_lexer": "ipython3",
   "version": "3.11.5"
  },
  "orig_nbformat": 4
 },
 "nbformat": 4,
 "nbformat_minor": 2
}
